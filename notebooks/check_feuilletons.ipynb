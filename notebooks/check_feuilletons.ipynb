{
 "cells": [
  {
   "cell_type": "code",
   "execution_count": 1,
   "id": "50c64564",
   "metadata": {},
   "outputs": [
    {
     "name": "stdout",
     "output_type": "stream",
     "text": [
      "Defaulting to user installation because normal site-packages is not writeable\n",
      "Requirement already satisfied: pandas in /home/ucloud/.local/lib/python3.12/site-packages (2.2.3)\n",
      "Requirement already satisfied: numpy>=1.26.0 in /home/ucloud/.local/lib/python3.12/site-packages (from pandas) (2.2.5)\n",
      "Requirement already satisfied: python-dateutil>=2.8.2 in /home/ucloud/.local/lib/python3.12/site-packages (from pandas) (2.9.0.post0)\n",
      "Requirement already satisfied: pytz>=2020.1 in /home/ucloud/.local/lib/python3.12/site-packages (from pandas) (2025.2)\n",
      "Requirement already satisfied: tzdata>=2022.7 in /home/ucloud/.local/lib/python3.12/site-packages (from pandas) (2025.2)\n",
      "Requirement already satisfied: six>=1.5 in /usr/lib/python3/dist-packages (from python-dateutil>=2.8.2->pandas) (1.16.0)\n",
      "Note: you may need to restart the kernel to use updated packages.\n"
     ]
    }
   ],
   "source": [
    "%pip install pandas\n",
    "import pandas as pd"
   ]
  },
  {
   "cell_type": "code",
   "execution_count": 2,
   "id": "2385cf38",
   "metadata": {},
   "outputs": [
    {
     "data": {
      "text/html": [
       "<div>\n",
       "<style scoped>\n",
       "    .dataframe tbody tr th:only-of-type {\n",
       "        vertical-align: middle;\n",
       "    }\n",
       "\n",
       "    .dataframe tbody tr th {\n",
       "        vertical-align: top;\n",
       "    }\n",
       "\n",
       "    .dataframe thead th {\n",
       "        text-align: right;\n",
       "    }\n",
       "</style>\n",
       "<table border=\"1\" class=\"dataframe\">\n",
       "  <thead>\n",
       "    <tr style=\"text-align: right;\">\n",
       "      <th></th>\n",
       "      <th>Unnamed: 0</th>\n",
       "      <th>article_id</th>\n",
       "      <th>text</th>\n",
       "      <th>is_feuilleton</th>\n",
       "      <th>feuilleton_id</th>\n",
       "    </tr>\n",
       "  </thead>\n",
       "  <tbody>\n",
       "    <tr>\n",
       "      <th>0</th>\n",
       "      <td>0</td>\n",
       "      <td>thi_000004</td>\n",
       "      <td>den store engelske taler phillips carakteer-sk...</td>\n",
       "      <td>y</td>\n",
       "      <td>thi_napoleon-skildring</td>\n",
       "    </tr>\n",
       "    <tr>\n",
       "      <th>1</th>\n",
       "      <td>1</td>\n",
       "      <td>thi_000005</td>\n",
       "      <td>stor, skummel, og egen sad han paa thronen, li...</td>\n",
       "      <td>y</td>\n",
       "      <td>thi_napoleon-skildring</td>\n",
       "    </tr>\n",
       "    <tr>\n",
       "      <th>2</th>\n",
       "      <td>2</td>\n",
       "      <td>thi_000006</td>\n",
       "      <td>en fast, kjæk og selvstændig sjæl, en villie d...</td>\n",
       "      <td>y</td>\n",
       "      <td>thi_napoleon-skildring</td>\n",
       "    </tr>\n",
       "    <tr>\n",
       "      <th>3</th>\n",
       "      <td>3</td>\n",
       "      <td>thi_000007</td>\n",
       "      <td>kastet ind i verden i midten af en revolution,...</td>\n",
       "      <td>y</td>\n",
       "      <td>thi_napoleon-skildring</td>\n",
       "    </tr>\n",
       "    <tr>\n",
       "      <th>4</th>\n",
       "      <td>4</td>\n",
       "      <td>thi_000008</td>\n",
       "      <td>med ingen anden ven end sit sværd og ingen i f...</td>\n",
       "      <td>y</td>\n",
       "      <td>thi_napoleon-skildring</td>\n",
       "    </tr>\n",
       "  </tbody>\n",
       "</table>\n",
       "</div>"
      ],
      "text/plain": [
       "   Unnamed: 0  article_id                                               text  \\\n",
       "0           0  thi_000004  den store engelske taler phillips carakteer-sk...   \n",
       "1           1  thi_000005  stor, skummel, og egen sad han paa thronen, li...   \n",
       "2           2  thi_000006  en fast, kjæk og selvstændig sjæl, en villie d...   \n",
       "3           3  thi_000007  kastet ind i verden i midten af en revolution,...   \n",
       "4           4  thi_000008  med ingen anden ven end sit sværd og ingen i f...   \n",
       "\n",
       "  is_feuilleton           feuilleton_id  \n",
       "0             y  thi_napoleon-skildring  \n",
       "1             y  thi_napoleon-skildring  \n",
       "2             y  thi_napoleon-skildring  \n",
       "3             y  thi_napoleon-skildring  \n",
       "4             y  thi_napoleon-skildring  "
      ]
     },
     "execution_count": 2,
     "metadata": {},
     "output_type": "execute_result"
    }
   ],
   "source": [
    "df = pd.read_csv(\"../cleaned_feuilleton.csv\", sep=\"\\t\")\n",
    "df.head()"
   ]
  },
  {
   "cell_type": "code",
   "execution_count": 4,
   "id": "2ac97420",
   "metadata": {},
   "outputs": [
    {
     "name": "stdout",
     "output_type": "stream",
     "text": [
      "article_id       object\n",
      "text             object\n",
      "is_feuilleton    object\n",
      "feuilleton_id    object\n",
      "dtype: object\n"
     ]
    }
   ],
   "source": [
    "df = df.drop(columns=['Unnamed: 0'])\n",
    "print(df.dtypes)\n"
   ]
  },
  {
   "cell_type": "code",
   "execution_count": 6,
   "id": "40e81621",
   "metadata": {},
   "outputs": [
    {
     "name": "stdout",
     "output_type": "stream",
     "text": [
      "article_id         1\n",
      "text               0\n",
      "is_feuilleton      0\n",
      "feuilleton_id    768\n",
      "dtype: int64\n",
      "article_id         0\n",
      "text               0\n",
      "is_feuilleton      0\n",
      "feuilleton_id    768\n",
      "dtype: int64\n"
     ]
    }
   ],
   "source": [
    "nan_count = df.isna().sum()\n",
    "print(nan_count)\n",
    "\n",
    "df['article_id'] = df['article_id'].fillna('')\n",
    "nan_count = df.isna().sum()\n",
    "print(nan_count)"
   ]
  },
  {
   "cell_type": "code",
   "execution_count": 7,
   "id": "8d1ced91",
   "metadata": {},
   "outputs": [
    {
     "name": "stdout",
     "output_type": "stream",
     "text": [
      "1459\n"
     ]
    }
   ],
   "source": [
    "print(len(df))\n",
    "\n",
    "# make sure they are all strings\n",
    "df['article_id'] = df['article_id'].astype(str)\n",
    "df['text'] = df['text'].astype(str)\n",
    "\n",
    "df = df[['article_id','text']]\n",
    "\n",
    "df.to_csv(\"../cleaned_feuilleton.csv\", sep=\"\\t\", index=False)"
   ]
  },
  {
   "cell_type": "code",
   "execution_count": 17,
   "id": "49f70bbf",
   "metadata": {},
   "outputs": [
    {
     "name": "stdout",
     "output_type": "stream",
     "text": [
      "her sammentrak min mund sig uvilkaarlig til latter.\n",
      "----- julie eller reliqvierne i dobberan. (sluttet.\n",
      "----- kjerlighedskuren. (sluttet.) . excursionen.\n",
      "j denne anledning har man et besynderligt træk af ham:\n",
      "forlovelse nogle maaneder, da vores tante er død.\n",
      "hr. von st. germain og hans reisekammeraters skjæbne.\n",
      "hvad kan vente sig mere af en oxe end et brøll.\n",
      "literaire blandinger. skibene esser og eagles skibbrud.\n",
      "grevinde london forlod den uden at have seet ex-reiseren.\n",
      "p. o. faber. udførligere fortælling om min fængsling.\n",
      "ved christionia har et æbletræe iaar baaret den gang frugt.\n",
      "efter canzler niemeyers beretning har london , jndvaanere.\n"
     ]
    }
   ],
   "source": [
    "for i, row in df.iterrows():\n",
    "    if len(row['text']) < 60:\n",
    "        print(row['text'])"
   ]
  },
  {
   "cell_type": "code",
   "execution_count": null,
   "id": "2e72d71f",
   "metadata": {},
   "outputs": [],
   "source": []
  }
 ],
 "metadata": {
  "kernelspec": {
   "display_name": "Python 3",
   "language": "python",
   "name": "python3"
  },
  "language_info": {
   "codemirror_mode": {
    "name": "ipython",
    "version": 3
   },
   "file_extension": ".py",
   "mimetype": "text/x-python",
   "name": "python",
   "nbconvert_exporter": "python",
   "pygments_lexer": "ipython3",
   "version": "3.12.3"
  }
 },
 "nbformat": 4,
 "nbformat_minor": 5
}
